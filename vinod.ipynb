{
 "cells": [
  {
   "cell_type": "code",
   "execution_count": 220,
   "metadata": {},
   "outputs": [],
   "source": [
    "from preprocessing_utils import *\n",
    "import os\n",
    "import numpy as np\n",
    "from sklearn.decomposition import PCA\n",
    "import pandas as pd\n",
    "import matplotlib.pyplot as plt\n",
    "from sklearn.model_selection import train_test_split\n",
    "import torch\n",
    "import torch.nn as nn\n",
    "from sklearn.preprocessing import LabelEncoder\n",
    "import torch.nn.functional as F"
   ]
  },
  {
   "cell_type": "code",
   "execution_count": 221,
   "metadata": {},
   "outputs": [],
   "source": [
    "df_stats = get_game_data()\n",
    "Y = df_stats['Team1 result']\n",
    "labelencoder = LabelEncoder()\n",
    "Y = labelencoder.fit_transform(Y)\n",
    "\n",
    "df_stats = df_stats.loc[:, df_stats.columns.str.contains('Norm$|Year|Seed|Diff')]\n",
    "df_stats = df_stats.drop(['Year','Seed Norm Diff'], axis=1)"
   ]
  },
  {
   "cell_type": "code",
   "execution_count": 229,
   "metadata": {},
   "outputs": [
    {
     "data": {
      "text/plain": [
       "Index(['W-L% Diff', 'SOS Diff', 'ORtg Diff', 'Drtg Diff', 'FG% Diff',\n",
       "       'Seed Diff', 'WL% * SOS Diff', '3P% Diff', 'FT% Diff', 'PPG Diff',\n",
       "       'OPPG Diff', 'APG Diff', 'TOVPG Diff', 'Adjusted WL% Diff',\n",
       "       'Adjusted Margin Diff', 'W-L% Norm Diff', 'SOS Norm Diff',\n",
       "       'ORtg Norm Diff', 'DRtg Norm Diff', 'FG% Norm Diff',\n",
       "       'WL% * SOS Norm Diff', '3P% Norm Diff', 'FT% Norm Diff',\n",
       "       'PPG Norm Diff', 'OPPG Norm Diff', 'APG Norm Diff', 'TOVPG Norm Diff',\n",
       "       'Adjusted WL% Norm Diff', 'Adjusted Margin Norm Diff'],\n",
       "      dtype='object')"
      ]
     },
     "execution_count": 229,
     "metadata": {},
     "output_type": "execute_result"
    }
   ],
   "source": [
    "df_stats.columns"
   ]
  },
  {
   "cell_type": "code",
   "execution_count": 228,
   "metadata": {},
   "outputs": [
    {
     "data": {
      "text/html": [
       "<div>\n",
       "<style scoped>\n",
       "    .dataframe tbody tr th:only-of-type {\n",
       "        vertical-align: middle;\n",
       "    }\n",
       "\n",
       "    .dataframe tbody tr th {\n",
       "        vertical-align: top;\n",
       "    }\n",
       "\n",
       "    .dataframe thead th {\n",
       "        text-align: right;\n",
       "    }\n",
       "</style>\n",
       "<table border=\"1\" class=\"dataframe\">\n",
       "  <thead>\n",
       "    <tr style=\"text-align: right;\">\n",
       "      <th></th>\n",
       "      <th>W-L% Diff</th>\n",
       "      <th>SOS Diff</th>\n",
       "      <th>ORtg Diff</th>\n",
       "      <th>Drtg Diff</th>\n",
       "      <th>FG% Diff</th>\n",
       "      <th>Seed Diff</th>\n",
       "      <th>WL% * SOS Diff</th>\n",
       "      <th>3P% Diff</th>\n",
       "      <th>FT% Diff</th>\n",
       "      <th>PPG Diff</th>\n",
       "      <th>...</th>\n",
       "      <th>FG% Norm Diff</th>\n",
       "      <th>WL% * SOS Norm Diff</th>\n",
       "      <th>3P% Norm Diff</th>\n",
       "      <th>FT% Norm Diff</th>\n",
       "      <th>PPG Norm Diff</th>\n",
       "      <th>OPPG Norm Diff</th>\n",
       "      <th>APG Norm Diff</th>\n",
       "      <th>TOVPG Norm Diff</th>\n",
       "      <th>Adjusted WL% Norm Diff</th>\n",
       "      <th>Adjusted Margin Norm Diff</th>\n",
       "    </tr>\n",
       "  </thead>\n",
       "  <tbody>\n",
       "    <tr>\n",
       "      <th>0</th>\n",
       "      <td>-0.469169</td>\n",
       "      <td>-3.099065</td>\n",
       "      <td>-0.119093</td>\n",
       "      <td>0.055085</td>\n",
       "      <td>-0.101099</td>\n",
       "      <td>1.764706</td>\n",
       "      <td>-2.617002</td>\n",
       "      <td>-0.071987</td>\n",
       "      <td>-0.013564</td>\n",
       "      <td>-0.134744</td>\n",
       "      <td>...</td>\n",
       "      <td>-0.978743</td>\n",
       "      <td>-0.899400</td>\n",
       "      <td>-1.393613</td>\n",
       "      <td>-0.211531</td>\n",
       "      <td>-0.914089</td>\n",
       "      <td>-0.222661</td>\n",
       "      <td>-1.658315</td>\n",
       "      <td>-0.299235</td>\n",
       "      <td>-1.450358</td>\n",
       "      <td>-1.447090</td>\n",
       "    </tr>\n",
       "    <tr>\n",
       "      <th>1</th>\n",
       "      <td>-0.090303</td>\n",
       "      <td>0.181146</td>\n",
       "      <td>-0.079010</td>\n",
       "      <td>0.024147</td>\n",
       "      <td>-0.071111</td>\n",
       "      <td>0.117647</td>\n",
       "      <td>0.091220</td>\n",
       "      <td>-0.113323</td>\n",
       "      <td>0.037209</td>\n",
       "      <td>-0.109074</td>\n",
       "      <td>...</td>\n",
       "      <td>-0.761990</td>\n",
       "      <td>0.046731</td>\n",
       "      <td>-1.574169</td>\n",
       "      <td>1.000000</td>\n",
       "      <td>-0.613461</td>\n",
       "      <td>0.065404</td>\n",
       "      <td>-0.932886</td>\n",
       "      <td>-0.667815</td>\n",
       "      <td>-0.373061</td>\n",
       "      <td>-0.990717</td>\n",
       "    </tr>\n",
       "    <tr>\n",
       "      <th>2</th>\n",
       "      <td>0.028537</td>\n",
       "      <td>-3.083333</td>\n",
       "      <td>0.116584</td>\n",
       "      <td>0.082105</td>\n",
       "      <td>0.095652</td>\n",
       "      <td>0.823529</td>\n",
       "      <td>-3.123462</td>\n",
       "      <td>0.242503</td>\n",
       "      <td>0.057787</td>\n",
       "      <td>0.161505</td>\n",
       "      <td>...</td>\n",
       "      <td>0.846106</td>\n",
       "      <td>-0.656215</td>\n",
       "      <td>1.155321</td>\n",
       "      <td>0.463242</td>\n",
       "      <td>1.555676</td>\n",
       "      <td>-0.453065</td>\n",
       "      <td>0.258670</td>\n",
       "      <td>-0.352127</td>\n",
       "      <td>0.131809</td>\n",
       "      <td>0.308208</td>\n",
       "    </tr>\n",
       "    <tr>\n",
       "      <th>3</th>\n",
       "      <td>-0.021769</td>\n",
       "      <td>4.019646</td>\n",
       "      <td>0.054453</td>\n",
       "      <td>0.010650</td>\n",
       "      <td>0.006795</td>\n",
       "      <td>-1.058824</td>\n",
       "      <td>4.087284</td>\n",
       "      <td>0.019802</td>\n",
       "      <td>0.089936</td>\n",
       "      <td>-0.025154</td>\n",
       "      <td>...</td>\n",
       "      <td>0.089620</td>\n",
       "      <td>1.064504</td>\n",
       "      <td>0.138564</td>\n",
       "      <td>0.792517</td>\n",
       "      <td>-0.368882</td>\n",
       "      <td>0.217483</td>\n",
       "      <td>-0.372252</td>\n",
       "      <td>0.487717</td>\n",
       "      <td>-0.269568</td>\n",
       "      <td>0.319186</td>\n",
       "    </tr>\n",
       "    <tr>\n",
       "      <th>4</th>\n",
       "      <td>0.109569</td>\n",
       "      <td>-0.094148</td>\n",
       "      <td>-0.030853</td>\n",
       "      <td>-0.031811</td>\n",
       "      <td>-0.004396</td>\n",
       "      <td>0.588235</td>\n",
       "      <td>0.015467</td>\n",
       "      <td>-0.205607</td>\n",
       "      <td>-0.028747</td>\n",
       "      <td>0.080196</td>\n",
       "      <td>...</td>\n",
       "      <td>-0.042514</td>\n",
       "      <td>0.007836</td>\n",
       "      <td>-1.077005</td>\n",
       "      <td>-0.191836</td>\n",
       "      <td>0.476117</td>\n",
       "      <td>-0.516756</td>\n",
       "      <td>-0.204680</td>\n",
       "      <td>-0.464562</td>\n",
       "      <td>0.672271</td>\n",
       "      <td>-0.021924</td>\n",
       "    </tr>\n",
       "  </tbody>\n",
       "</table>\n",
       "<p>5 rows × 29 columns</p>\n",
       "</div>"
      ],
      "text/plain": [
       "   W-L% Diff  SOS Diff  ORtg Diff  Drtg Diff  FG% Diff  Seed Diff  \\\n",
       "0  -0.469169 -3.099065  -0.119093   0.055085 -0.101099   1.764706   \n",
       "1  -0.090303  0.181146  -0.079010   0.024147 -0.071111   0.117647   \n",
       "2   0.028537 -3.083333   0.116584   0.082105  0.095652   0.823529   \n",
       "3  -0.021769  4.019646   0.054453   0.010650  0.006795  -1.058824   \n",
       "4   0.109569 -0.094148  -0.030853  -0.031811 -0.004396   0.588235   \n",
       "\n",
       "   WL% * SOS Diff  3P% Diff  FT% Diff  PPG Diff  ...  FG% Norm Diff  \\\n",
       "0       -2.617002 -0.071987 -0.013564 -0.134744  ...      -0.978743   \n",
       "1        0.091220 -0.113323  0.037209 -0.109074  ...      -0.761990   \n",
       "2       -3.123462  0.242503  0.057787  0.161505  ...       0.846106   \n",
       "3        4.087284  0.019802  0.089936 -0.025154  ...       0.089620   \n",
       "4        0.015467 -0.205607 -0.028747  0.080196  ...      -0.042514   \n",
       "\n",
       "   WL% * SOS Norm Diff  3P% Norm Diff  FT% Norm Diff  PPG Norm Diff  \\\n",
       "0            -0.899400      -1.393613      -0.211531      -0.914089   \n",
       "1             0.046731      -1.574169       1.000000      -0.613461   \n",
       "2            -0.656215       1.155321       0.463242       1.555676   \n",
       "3             1.064504       0.138564       0.792517      -0.368882   \n",
       "4             0.007836      -1.077005      -0.191836       0.476117   \n",
       "\n",
       "   OPPG Norm Diff  APG Norm Diff  TOVPG Norm Diff  Adjusted WL% Norm Diff  \\\n",
       "0       -0.222661      -1.658315        -0.299235               -1.450358   \n",
       "1        0.065404      -0.932886        -0.667815               -0.373061   \n",
       "2       -0.453065       0.258670        -0.352127                0.131809   \n",
       "3        0.217483      -0.372252         0.487717               -0.269568   \n",
       "4       -0.516756      -0.204680        -0.464562                0.672271   \n",
       "\n",
       "   Adjusted Margin Norm Diff  \n",
       "0                  -1.447090  \n",
       "1                  -0.990717  \n",
       "2                   0.308208  \n",
       "3                   0.319186  \n",
       "4                  -0.021924  \n",
       "\n",
       "[5 rows x 29 columns]"
      ]
     },
     "execution_count": 228,
     "metadata": {},
     "output_type": "execute_result"
    }
   ],
   "source": [
    "df_stats[0:5]"
   ]
  },
  {
   "cell_type": "code",
   "execution_count": 222,
   "metadata": {},
   "outputs": [],
   "source": [
    "pca = PCA(n_components=14)\n",
    "principalComponents = pca.fit_transform(df_stats)\n",
    "X = pd.DataFrame(data = principalComponents, columns = ['PC1', 'PC2', 'PC3','PC4','PC5','PC6','PC7','PC8','PC9','PC10','PC11','PC12','PC13','PC14'])"
   ]
  },
  {
   "cell_type": "code",
   "execution_count": 226,
   "metadata": {},
   "outputs": [
    {
     "name": "stdout",
     "output_type": "stream",
     "text": [
      "<class 'pandas.core.frame.DataFrame'>\n",
      "RangeIndex: 567 entries, 0 to 566\n",
      "Data columns (total 14 columns):\n",
      "PC1     567 non-null float64\n",
      "PC2     567 non-null float64\n",
      "PC3     567 non-null float64\n",
      "PC4     567 non-null float64\n",
      "PC5     567 non-null float64\n",
      "PC6     567 non-null float64\n",
      "PC7     567 non-null float64\n",
      "PC8     567 non-null float64\n",
      "PC9     567 non-null float64\n",
      "PC10    567 non-null float64\n",
      "PC11    567 non-null float64\n",
      "PC12    567 non-null float64\n",
      "PC13    567 non-null float64\n",
      "PC14    567 non-null float64\n",
      "dtypes: float64(14)\n",
      "memory usage: 62.1 KB\n"
     ]
    }
   ],
   "source": [
    "X.info()"
   ]
  },
  {
   "cell_type": "code",
   "execution_count": 227,
   "metadata": {},
   "outputs": [
    {
     "data": {
      "text/html": [
       "<div>\n",
       "<style scoped>\n",
       "    .dataframe tbody tr th:only-of-type {\n",
       "        vertical-align: middle;\n",
       "    }\n",
       "\n",
       "    .dataframe tbody tr th {\n",
       "        vertical-align: top;\n",
       "    }\n",
       "\n",
       "    .dataframe thead th {\n",
       "        text-align: right;\n",
       "    }\n",
       "</style>\n",
       "<table border=\"1\" class=\"dataframe\">\n",
       "  <thead>\n",
       "    <tr style=\"text-align: right;\">\n",
       "      <th></th>\n",
       "      <th>PC1</th>\n",
       "      <th>PC2</th>\n",
       "      <th>PC3</th>\n",
       "      <th>PC4</th>\n",
       "      <th>PC5</th>\n",
       "      <th>PC6</th>\n",
       "      <th>PC7</th>\n",
       "      <th>PC8</th>\n",
       "      <th>PC9</th>\n",
       "      <th>PC10</th>\n",
       "      <th>PC11</th>\n",
       "      <th>PC12</th>\n",
       "      <th>PC13</th>\n",
       "      <th>PC14</th>\n",
       "    </tr>\n",
       "  </thead>\n",
       "  <tbody>\n",
       "    <tr>\n",
       "      <th>0</th>\n",
       "      <td>-5.746328</td>\n",
       "      <td>4.568382</td>\n",
       "      <td>-5.100457</td>\n",
       "      <td>-0.179334</td>\n",
       "      <td>-0.157396</td>\n",
       "      <td>-0.441821</td>\n",
       "      <td>-0.150681</td>\n",
       "      <td>0.179467</td>\n",
       "      <td>-0.127546</td>\n",
       "      <td>0.225524</td>\n",
       "      <td>-0.462592</td>\n",
       "      <td>-0.761768</td>\n",
       "      <td>-0.134754</td>\n",
       "      <td>0.040962</td>\n",
       "    </tr>\n",
       "    <tr>\n",
       "      <th>1</th>\n",
       "      <td>-2.972337</td>\n",
       "      <td>1.147971</td>\n",
       "      <td>-2.904310</td>\n",
       "      <td>0.393820</td>\n",
       "      <td>0.652312</td>\n",
       "      <td>-0.401715</td>\n",
       "      <td>-1.614417</td>\n",
       "      <td>0.093177</td>\n",
       "      <td>-0.127631</td>\n",
       "      <td>-0.241009</td>\n",
       "      <td>-0.340836</td>\n",
       "      <td>0.012893</td>\n",
       "      <td>0.092588</td>\n",
       "      <td>-0.209802</td>\n",
       "    </tr>\n",
       "    <tr>\n",
       "      <th>2</th>\n",
       "      <td>-6.257068</td>\n",
       "      <td>4.263643</td>\n",
       "      <td>0.316641</td>\n",
       "      <td>-2.457936</td>\n",
       "      <td>-1.062248</td>\n",
       "      <td>0.131037</td>\n",
       "      <td>-0.095302</td>\n",
       "      <td>-0.069104</td>\n",
       "      <td>0.242631</td>\n",
       "      <td>0.691313</td>\n",
       "      <td>0.097028</td>\n",
       "      <td>-0.278631</td>\n",
       "      <td>0.044573</td>\n",
       "      <td>-0.415647</td>\n",
       "    </tr>\n",
       "    <tr>\n",
       "      <th>3</th>\n",
       "      <td>1.100250</td>\n",
       "      <td>-2.852967</td>\n",
       "      <td>-0.014621</td>\n",
       "      <td>0.230733</td>\n",
       "      <td>1.187203</td>\n",
       "      <td>-0.914771</td>\n",
       "      <td>-0.068758</td>\n",
       "      <td>-0.352441</td>\n",
       "      <td>-0.001719</td>\n",
       "      <td>0.186070</td>\n",
       "      <td>-0.207522</td>\n",
       "      <td>-0.192881</td>\n",
       "      <td>0.169261</td>\n",
       "      <td>0.198155</td>\n",
       "    </tr>\n",
       "    <tr>\n",
       "      <th>4</th>\n",
       "      <td>-3.056429</td>\n",
       "      <td>1.355659</td>\n",
       "      <td>-0.991581</td>\n",
       "      <td>-0.025264</td>\n",
       "      <td>-0.707850</td>\n",
       "      <td>0.755021</td>\n",
       "      <td>-0.876729</td>\n",
       "      <td>0.807117</td>\n",
       "      <td>-0.295949</td>\n",
       "      <td>0.487859</td>\n",
       "      <td>-0.270510</td>\n",
       "      <td>0.568590</td>\n",
       "      <td>-0.216797</td>\n",
       "      <td>0.045645</td>\n",
       "    </tr>\n",
       "  </tbody>\n",
       "</table>\n",
       "</div>"
      ],
      "text/plain": [
       "        PC1       PC2       PC3       PC4       PC5       PC6       PC7  \\\n",
       "0 -5.746328  4.568382 -5.100457 -0.179334 -0.157396 -0.441821 -0.150681   \n",
       "1 -2.972337  1.147971 -2.904310  0.393820  0.652312 -0.401715 -1.614417   \n",
       "2 -6.257068  4.263643  0.316641 -2.457936 -1.062248  0.131037 -0.095302   \n",
       "3  1.100250 -2.852967 -0.014621  0.230733  1.187203 -0.914771 -0.068758   \n",
       "4 -3.056429  1.355659 -0.991581 -0.025264 -0.707850  0.755021 -0.876729   \n",
       "\n",
       "        PC8       PC9      PC10      PC11      PC12      PC13      PC14  \n",
       "0  0.179467 -0.127546  0.225524 -0.462592 -0.761768 -0.134754  0.040962  \n",
       "1  0.093177 -0.127631 -0.241009 -0.340836  0.012893  0.092588 -0.209802  \n",
       "2 -0.069104  0.242631  0.691313  0.097028 -0.278631  0.044573 -0.415647  \n",
       "3 -0.352441 -0.001719  0.186070 -0.207522 -0.192881  0.169261  0.198155  \n",
       "4  0.807117 -0.295949  0.487859 -0.270510  0.568590 -0.216797  0.045645  "
      ]
     },
     "execution_count": 227,
     "metadata": {},
     "output_type": "execute_result"
    }
   ],
   "source": [
    "X[0:5]"
   ]
  },
  {
   "cell_type": "code",
   "execution_count": 223,
   "metadata": {},
   "outputs": [],
   "source": [
    "class Network(nn.Module):\n",
    "    def __init__(self):\n",
    "        super().__init__()\n",
    "        \n",
    "        nfeatures = 14\n",
    "        \n",
    "        # Inputs to hidden layer linear transformation\n",
    "        self.hidden = nn.Linear(nfeatures, 256)\n",
    "        self.hidden1 = nn.Linear(256, 256)\n",
    "        self.hidden2 = nn.Linear(256, 256)\n",
    "        self.output = nn.Linear(256, 1)\n",
    "        # Define sigmoid activation and softmax output \n",
    "        self.sigmoid = nn.Sigmoid()\n",
    "        \n",
    "    def forward(self, x):\n",
    "        x = self.hidden(x)\n",
    "        x = F.relu(x)\n",
    "        x = self.hidden1(x)\n",
    "        x = F.relu(x)\n",
    "        x = self.hidden2(x)\n",
    "        x = F.relu(x)\n",
    "        x = self.output(x)\n",
    "        x = self.sigmoid(x)\n",
    "        \n",
    "        return x\n",
    "    \n",
    "model = Network()    "
   ]
  },
  {
   "cell_type": "code",
   "execution_count": 224,
   "metadata": {},
   "outputs": [
    {
     "data": {
      "image/png": "[encoded data removed]",
      "text/plain": [
       "<Figure size 864x576 with 2 Axes>"
      ]
     },
     "metadata": {
      "needs_background": "light"
     },
     "output_type": "display_data"
    },
    {
     "name": "stdout",
     "output_type": "stream",
     "text": [
      "Train Accuracy 1.0000\n"
     ]
    }
   ],
   "source": [
    "X_train, X_test, Y_train, Y_test = train_test_split(X, Y, test_size=0.25, random_state=73)\n",
    "X_train, X_test = X_train.values, X_test.values\n",
    "\n",
    "loss_func = nn.BCELoss()\n",
    "learning_rate = 0.001\n",
    "optimizer = torch.optim.Adam(model.parameters(), lr=learning_rate)\n",
    "\n",
    "train_loss = []\n",
    "train_accuracy = []\n",
    "iters = 400\n",
    "Y_train_t = torch.FloatTensor(Y_train).reshape(-1, 1)\n",
    "for i in range(iters):\n",
    "    X_train_t = torch.FloatTensor(X_train)\n",
    "    y_hat = model(X_train_t)\n",
    "    loss = loss_func(y_hat, Y_train_t)\n",
    "    loss.backward()\n",
    "    optimizer.step()\n",
    "    optimizer.zero_grad()\n",
    "    y_hat_class = np.where(y_hat.detach().numpy()<0.5, 0, 1)\n",
    "    accuracy = np.sum(Y_train.reshape(-1,1)==y_hat_class) / len(Y_train)\n",
    "    train_accuracy.append(accuracy)\n",
    "    train_loss.append(loss.item())\n",
    "    \n",
    "fig, ax = plt.subplots(2, 1, figsize=(12,8))\n",
    "ax[0].plot(train_loss)\n",
    "ax[0].set_ylabel('Loss')\n",
    "ax[0].set_title('Training Loss')\n",
    "\n",
    "ax[1].plot(train_accuracy)\n",
    "ax[1].set_ylabel('Classification Accuracy')\n",
    "ax[1].set_title('Training Accuracy')\n",
    "\n",
    "plt.tight_layout()\n",
    "plt.show()\n",
    "print(\"Train Accuracy {:.4f}\".format(max(train_accuracy)))"
   ]
  },
  {
   "cell_type": "code",
   "execution_count": 225,
   "metadata": {},
   "outputs": [
    {
     "name": "stdout",
     "output_type": "stream",
     "text": [
      "Test Accuracy 0.93\n"
     ]
    }
   ],
   "source": [
    "X_test_t = torch.FloatTensor(X_test)\n",
    "y_hat_test = model(X_test_t)\n",
    "y_hat_test_class = np.where(y_hat_test.detach().numpy()<0.5, 0, 1)\n",
    "test_accuracy = np.sum(Y_test.reshape(-1,1)==y_hat_test_class) / len(Y_test)\n",
    "print(\"Test Accuracy {:.2f}\".format(test_accuracy))"
   ]
  },
  {
   "cell_type": "code",
   "execution_count": 232,
   "metadata": {},
   "outputs": [
    {
     "data": {
      "text/plain": [
       "array([[  0,   5],\n",
       "       [  5, 132]])"
      ]
     },
     "execution_count": 232,
     "metadata": {},
     "output_type": "execute_result"
    }
   ],
   "source": [
    "from sklearn.metrics import confusion_matrix\n",
    "confusion_matrix(Y_test, y_hat_test_class)"
   ]
  },
  {
   "cell_type": "code",
   "execution_count": null,
   "metadata": {},
   "outputs": [],
   "source": []
  },
  {
   "cell_type": "code",
   "execution_count": null,
   "metadata": {},
   "outputs": [],
   "source": []
  },
  {
   "cell_type": "code",
   "execution_count": null,
   "metadata": {},
   "outputs": [],
   "source": []
  },
  {
   "cell_type": "code",
   "execution_count": null,
   "metadata": {},
   "outputs": [],
   "source": []
  },
  {
   "cell_type": "code",
   "execution_count": null,
   "metadata": {},
   "outputs": [],
   "source": []
  },
  {
   "cell_type": "code",
   "execution_count": null,
   "metadata": {},
   "outputs": [],
   "source": []
  },
  {
   "cell_type": "code",
   "execution_count": null,
   "metadata": {},
   "outputs": [],
   "source": []
  },
  {
   "cell_type": "code",
   "execution_count": null,
   "metadata": {},
   "outputs": [],
   "source": []
  },
  {
   "cell_type": "code",
   "execution_count": null,
   "metadata": {},
   "outputs": [],
   "source": []
  },
  {
   "cell_type": "code",
   "execution_count": null,
   "metadata": {},
   "outputs": [],
   "source": []
  },
  {
   "cell_type": "code",
   "execution_count": null,
   "metadata": {},
   "outputs": [],
   "source": []
  },
  {
   "cell_type": "code",
   "execution_count": null,
   "metadata": {},
   "outputs": [],
   "source": []
  },
  {
   "cell_type": "code",
   "execution_count": null,
   "metadata": {},
   "outputs": [],
   "source": []
  },
  {
   "cell_type": "code",
   "execution_count": null,
   "metadata": {},
   "outputs": [],
   "source": []
  },
  {
   "cell_type": "code",
   "execution_count": null,
   "metadata": {},
   "outputs": [],
   "source": []
  },
  {
   "cell_type": "code",
   "execution_count": null,
   "metadata": {},
   "outputs": [],
   "source": []
  },
  {
   "cell_type": "code",
   "execution_count": null,
   "metadata": {},
   "outputs": [],
   "source": []
  },
  {
   "cell_type": "code",
   "execution_count": null,
   "metadata": {},
   "outputs": [],
   "source": []
  },
  {
   "cell_type": "code",
   "execution_count": null,
   "metadata": {},
   "outputs": [],
   "source": []
  },
  {
   "cell_type": "code",
   "execution_count": null,
   "metadata": {},
   "outputs": [],
   "source": []
  }
 ],
 "metadata": {
  "kernelspec": {
   "display_name": "Python 3",
   "language": "python",
   "name": "python3"
  },
  "language_info": {
   "codemirror_mode": {
    "name": "ipython",
    "version": 3
   },
   "file_extension": ".py",
   "mimetype": "text/x-python",
   "name": "python",
   "nbconvert_exporter": "python",
   "pygments_lexer": "ipython3",
   "version": "3.6.5"
  }
 },
 "nbformat": 4,
 "nbformat_minor": 2
}
