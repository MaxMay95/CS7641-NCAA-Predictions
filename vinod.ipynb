{
 "cells": [
  {
   "cell_type": "code",
   "execution_count": 2,
   "metadata": {},
   "outputs": [],
   "source": [
    "from preprocessing_utils import *\n",
    "import os\n",
    "import numpy as np\n",
    "from sklearn.decomposition import PCA\n",
    "import pandas as pd\n",
    "import matplotlib.pyplot as plt\n",
    "from sklearn.model_selection import train_test_split\n",
    "import torch\n",
    "import torch.nn as nn\n",
    "from sklearn.preprocessing import LabelEncoder\n",
    "import torch.nn.functional as F"
   ]
  },
  {
   "cell_type": "code",
   "execution_count": 3,
   "metadata": {},
   "outputs": [],
   "source": [
    "df_stats = get_game_data()\n",
    "\n",
    "wins = df_stats.loc[df_stats['Team1 result'] == 'win']\n",
    "# wins = wins.sample(n=36)\n",
    "loss = df_stats.loc[df_stats['Team1 result'] == 'loss']\n",
    "# df_stats = pd.concat([wins, loss])\n",
    "Y = df_stats['Team1 result']\n",
    "labelencoder = LabelEncoder()\n",
    "Y = labelencoder.fit_transform(Y)\n",
    "\n",
    "df_stats = df_stats.loc[:, df_stats.columns.str.contains('Norm')]\n",
    "df_stats = df_stats.drop(['Seed Norm Diff'], axis=1)"
   ]
  },
  {
   "cell_type": "code",
   "execution_count": 4,
   "metadata": {},
   "outputs": [
    {
     "data": {
      "text/plain": [
       "(282, 37)"
      ]
     },
     "execution_count": 4,
     "metadata": {},
     "output_type": "execute_result"
    }
   ],
   "source": [
    "wins.shape"
   ]
  },
  {
   "cell_type": "code",
   "execution_count": 5,
   "metadata": {},
   "outputs": [
    {
     "data": {
      "text/plain": [
       "(567, 14)"
      ]
     },
     "execution_count": 5,
     "metadata": {},
     "output_type": "execute_result"
    }
   ],
   "source": [
    "df_stats.shape"
   ]
  },
  {
   "cell_type": "code",
   "execution_count": 6,
   "metadata": {},
   "outputs": [
    {
     "data": {
      "text/plain": [
       "Index(['W-L% Norm Diff', 'SOS Norm Diff', 'ORtg Norm Diff', 'DRtg Norm Diff',\n",
       "       'FG% Norm Diff', 'WL% * SOS Norm Diff', '3P% Norm Diff',\n",
       "       'FT% Norm Diff', 'PPG Norm Diff', 'OPPG Norm Diff', 'APG Norm Diff',\n",
       "       'TOVPG Norm Diff', 'Adjusted WL% Norm Diff',\n",
       "       'Adjusted Margin Norm Diff'],\n",
       "      dtype='object')"
      ]
     },
     "execution_count": 6,
     "metadata": {},
     "output_type": "execute_result"
    }
   ],
   "source": [
    "df_stats.columns"
   ]
  },
  {
   "cell_type": "code",
   "execution_count": 7,
   "metadata": {},
   "outputs": [
    {
     "data": {
      "text/html": [
       "<div>\n",
       "<style scoped>\n",
       "    .dataframe tbody tr th:only-of-type {\n",
       "        vertical-align: middle;\n",
       "    }\n",
       "\n",
       "    .dataframe tbody tr th {\n",
       "        vertical-align: top;\n",
       "    }\n",
       "\n",
       "    .dataframe thead th {\n",
       "        text-align: right;\n",
       "    }\n",
       "</style>\n",
       "<table border=\"1\" class=\"dataframe\">\n",
       "  <thead>\n",
       "    <tr style=\"text-align: right;\">\n",
       "      <th></th>\n",
       "      <th>W-L% Norm Diff</th>\n",
       "      <th>SOS Norm Diff</th>\n",
       "      <th>ORtg Norm Diff</th>\n",
       "      <th>DRtg Norm Diff</th>\n",
       "      <th>FG% Norm Diff</th>\n",
       "      <th>WL% * SOS Norm Diff</th>\n",
       "      <th>3P% Norm Diff</th>\n",
       "      <th>FT% Norm Diff</th>\n",
       "      <th>PPG Norm Diff</th>\n",
       "      <th>OPPG Norm Diff</th>\n",
       "      <th>APG Norm Diff</th>\n",
       "      <th>TOVPG Norm Diff</th>\n",
       "      <th>Adjusted WL% Norm Diff</th>\n",
       "      <th>Adjusted Margin Norm Diff</th>\n",
       "    </tr>\n",
       "  </thead>\n",
       "  <tbody>\n",
       "    <tr>\n",
       "      <th>0</th>\n",
       "      <td>-1.613043</td>\n",
       "      <td>-0.792023</td>\n",
       "      <td>-0.992063</td>\n",
       "      <td>-0.391076</td>\n",
       "      <td>-0.978743</td>\n",
       "      <td>-0.899400</td>\n",
       "      <td>-1.393613</td>\n",
       "      <td>-0.211531</td>\n",
       "      <td>-0.914089</td>\n",
       "      <td>-0.222661</td>\n",
       "      <td>-1.658315</td>\n",
       "      <td>-0.299235</td>\n",
       "      <td>-1.450358</td>\n",
       "      <td>-1.447090</td>\n",
       "    </tr>\n",
       "    <tr>\n",
       "      <th>1</th>\n",
       "      <td>-0.416377</td>\n",
       "      <td>0.092479</td>\n",
       "      <td>-0.694517</td>\n",
       "      <td>-0.184744</td>\n",
       "      <td>-0.761990</td>\n",
       "      <td>0.046731</td>\n",
       "      <td>-1.574169</td>\n",
       "      <td>1.000000</td>\n",
       "      <td>-0.613461</td>\n",
       "      <td>0.065404</td>\n",
       "      <td>-0.932886</td>\n",
       "      <td>-0.667815</td>\n",
       "      <td>-0.373061</td>\n",
       "      <td>-0.990717</td>\n",
       "    </tr>\n",
       "    <tr>\n",
       "      <th>2</th>\n",
       "      <td>-0.076894</td>\n",
       "      <td>0.547085</td>\n",
       "      <td>-0.735043</td>\n",
       "      <td>0.614183</td>\n",
       "      <td>-0.846106</td>\n",
       "      <td>0.656215</td>\n",
       "      <td>-1.155321</td>\n",
       "      <td>-0.463242</td>\n",
       "      <td>-1.555676</td>\n",
       "      <td>0.453065</td>\n",
       "      <td>-0.258670</td>\n",
       "      <td>0.352127</td>\n",
       "      <td>-0.131809</td>\n",
       "      <td>-0.308208</td>\n",
       "    </tr>\n",
       "    <tr>\n",
       "      <th>3</th>\n",
       "      <td>-0.077640</td>\n",
       "      <td>0.989772</td>\n",
       "      <td>0.386843</td>\n",
       "      <td>-0.072451</td>\n",
       "      <td>0.089620</td>\n",
       "      <td>1.064504</td>\n",
       "      <td>0.138564</td>\n",
       "      <td>0.792517</td>\n",
       "      <td>-0.368882</td>\n",
       "      <td>0.217483</td>\n",
       "      <td>-0.372252</td>\n",
       "      <td>0.487717</td>\n",
       "      <td>-0.269568</td>\n",
       "      <td>0.319186</td>\n",
       "    </tr>\n",
       "    <tr>\n",
       "      <th>4</th>\n",
       "      <td>0.482289</td>\n",
       "      <td>-0.047339</td>\n",
       "      <td>-0.198737</td>\n",
       "      <td>0.302416</td>\n",
       "      <td>-0.042514</td>\n",
       "      <td>0.007836</td>\n",
       "      <td>-1.077005</td>\n",
       "      <td>-0.191836</td>\n",
       "      <td>0.476117</td>\n",
       "      <td>-0.516756</td>\n",
       "      <td>-0.204680</td>\n",
       "      <td>-0.464562</td>\n",
       "      <td>0.672271</td>\n",
       "      <td>-0.021924</td>\n",
       "    </tr>\n",
       "  </tbody>\n",
       "</table>\n",
       "</div>"
      ],
      "text/plain": [
       "   W-L% Norm Diff  SOS Norm Diff  ORtg Norm Diff  DRtg Norm Diff  \\\n",
       "0       -1.613043      -0.792023       -0.992063       -0.391076   \n",
       "1       -0.416377       0.092479       -0.694517       -0.184744   \n",
       "2       -0.076894       0.547085       -0.735043        0.614183   \n",
       "3       -0.077640       0.989772        0.386843       -0.072451   \n",
       "4        0.482289      -0.047339       -0.198737        0.302416   \n",
       "\n",
       "   FG% Norm Diff  WL% * SOS Norm Diff  3P% Norm Diff  FT% Norm Diff  \\\n",
       "0      -0.978743            -0.899400      -1.393613      -0.211531   \n",
       "1      -0.761990             0.046731      -1.574169       1.000000   \n",
       "2      -0.846106             0.656215      -1.155321      -0.463242   \n",
       "3       0.089620             1.064504       0.138564       0.792517   \n",
       "4      -0.042514             0.007836      -1.077005      -0.191836   \n",
       "\n",
       "   PPG Norm Diff  OPPG Norm Diff  APG Norm Diff  TOVPG Norm Diff  \\\n",
       "0      -0.914089       -0.222661      -1.658315        -0.299235   \n",
       "1      -0.613461        0.065404      -0.932886        -0.667815   \n",
       "2      -1.555676        0.453065      -0.258670         0.352127   \n",
       "3      -0.368882        0.217483      -0.372252         0.487717   \n",
       "4       0.476117       -0.516756      -0.204680        -0.464562   \n",
       "\n",
       "   Adjusted WL% Norm Diff  Adjusted Margin Norm Diff  \n",
       "0               -1.450358                  -1.447090  \n",
       "1               -0.373061                  -0.990717  \n",
       "2               -0.131809                  -0.308208  \n",
       "3               -0.269568                   0.319186  \n",
       "4                0.672271                  -0.021924  "
      ]
     },
     "execution_count": 7,
     "metadata": {},
     "output_type": "execute_result"
    }
   ],
   "source": [
    "df_stats[0:5]"
   ]
  },
  {
   "cell_type": "code",
   "execution_count": 8,
   "metadata": {},
   "outputs": [],
   "source": [
    "pca = PCA(n_components=14)\n",
    "principalComponents = pca.fit_transform(df_stats)\n",
    "# X = pd.DataFrame(data = principalComponents, columns = ['PC1', 'PC2', 'PC3','PC4'])\n",
    "X = pd.DataFrame(data = principalComponents, columns = ['PC1', 'PC2', 'PC3','PC4','PC5','PC6','PC7','PC8','PC9','PC10','PC11','PC12','PC13','PC14'])"
   ]
  },
  {
   "cell_type": "code",
   "execution_count": 9,
   "metadata": {},
   "outputs": [
    {
     "name": "stdout",
     "output_type": "stream",
     "text": [
      "<class 'pandas.core.frame.DataFrame'>\n",
      "RangeIndex: 567 entries, 0 to 566\n",
      "Data columns (total 14 columns):\n",
      "PC1     567 non-null float64\n",
      "PC2     567 non-null float64\n",
      "PC3     567 non-null float64\n",
      "PC4     567 non-null float64\n",
      "PC5     567 non-null float64\n",
      "PC6     567 non-null float64\n",
      "PC7     567 non-null float64\n",
      "PC8     567 non-null float64\n",
      "PC9     567 non-null float64\n",
      "PC10    567 non-null float64\n",
      "PC11    567 non-null float64\n",
      "PC12    567 non-null float64\n",
      "PC13    567 non-null float64\n",
      "PC14    567 non-null float64\n",
      "dtypes: float64(14)\n",
      "memory usage: 62.1 KB\n"
     ]
    }
   ],
   "source": [
    "X.info()"
   ]
  },
  {
   "cell_type": "code",
   "execution_count": 10,
   "metadata": {},
   "outputs": [
    {
     "data": {
      "text/html": [
       "<div>\n",
       "<style scoped>\n",
       "    .dataframe tbody tr th:only-of-type {\n",
       "        vertical-align: middle;\n",
       "    }\n",
       "\n",
       "    .dataframe tbody tr th {\n",
       "        vertical-align: top;\n",
       "    }\n",
       "\n",
       "    .dataframe thead th {\n",
       "        text-align: right;\n",
       "    }\n",
       "</style>\n",
       "<table border=\"1\" class=\"dataframe\">\n",
       "  <thead>\n",
       "    <tr style=\"text-align: right;\">\n",
       "      <th></th>\n",
       "      <th>PC1</th>\n",
       "      <th>PC2</th>\n",
       "      <th>PC3</th>\n",
       "      <th>PC4</th>\n",
       "      <th>PC5</th>\n",
       "      <th>PC6</th>\n",
       "      <th>PC7</th>\n",
       "      <th>PC8</th>\n",
       "      <th>PC9</th>\n",
       "      <th>PC10</th>\n",
       "      <th>PC11</th>\n",
       "      <th>PC12</th>\n",
       "      <th>PC13</th>\n",
       "      <th>PC14</th>\n",
       "    </tr>\n",
       "  </thead>\n",
       "  <tbody>\n",
       "    <tr>\n",
       "      <th>0</th>\n",
       "      <td>-3.812953</td>\n",
       "      <td>0.001216</td>\n",
       "      <td>-0.323769</td>\n",
       "      <td>0.604977</td>\n",
       "      <td>0.019400</td>\n",
       "      <td>-0.203312</td>\n",
       "      <td>0.026274</td>\n",
       "      <td>0.487845</td>\n",
       "      <td>0.616140</td>\n",
       "      <td>0.037627</td>\n",
       "      <td>-0.024752</td>\n",
       "      <td>0.197650</td>\n",
       "      <td>0.104827</td>\n",
       "      <td>0.011297</td>\n",
       "    </tr>\n",
       "    <tr>\n",
       "      <th>1</th>\n",
       "      <td>-1.925220</td>\n",
       "      <td>-0.488924</td>\n",
       "      <td>-0.710458</td>\n",
       "      <td>0.612314</td>\n",
       "      <td>-1.480071</td>\n",
       "      <td>-0.147877</td>\n",
       "      <td>-0.058816</td>\n",
       "      <td>0.354898</td>\n",
       "      <td>-0.201330</td>\n",
       "      <td>-0.165926</td>\n",
       "      <td>-0.183985</td>\n",
       "      <td>0.177803</td>\n",
       "      <td>-0.058405</td>\n",
       "      <td>0.033032</td>\n",
       "    </tr>\n",
       "    <tr>\n",
       "      <th>2</th>\n",
       "      <td>-1.108484</td>\n",
       "      <td>-2.030853</td>\n",
       "      <td>-0.736580</td>\n",
       "      <td>-0.028974</td>\n",
       "      <td>0.020174</td>\n",
       "      <td>-0.019185</td>\n",
       "      <td>0.508958</td>\n",
       "      <td>0.127384</td>\n",
       "      <td>-0.583453</td>\n",
       "      <td>0.214530</td>\n",
       "      <td>0.368134</td>\n",
       "      <td>0.097634</td>\n",
       "      <td>-0.031247</td>\n",
       "      <td>-0.081408</td>\n",
       "    </tr>\n",
       "    <tr>\n",
       "      <th>3</th>\n",
       "      <td>0.750251</td>\n",
       "      <td>-0.517997</td>\n",
       "      <td>-1.434833</td>\n",
       "      <td>0.770780</td>\n",
       "      <td>-0.087236</td>\n",
       "      <td>0.347226</td>\n",
       "      <td>-0.094349</td>\n",
       "      <td>0.207712</td>\n",
       "      <td>0.161577</td>\n",
       "      <td>-0.158942</td>\n",
       "      <td>0.236577</td>\n",
       "      <td>-0.069516</td>\n",
       "      <td>-0.015409</td>\n",
       "      <td>-0.066967</td>\n",
       "    </tr>\n",
       "    <tr>\n",
       "      <th>4</th>\n",
       "      <td>-0.046420</td>\n",
       "      <td>-0.290762</td>\n",
       "      <td>0.405333</td>\n",
       "      <td>-0.648535</td>\n",
       "      <td>-0.917404</td>\n",
       "      <td>-0.876363</td>\n",
       "      <td>-0.422618</td>\n",
       "      <td>0.199578</td>\n",
       "      <td>-0.103165</td>\n",
       "      <td>0.193305</td>\n",
       "      <td>0.069017</td>\n",
       "      <td>0.111965</td>\n",
       "      <td>0.043606</td>\n",
       "      <td>0.001984</td>\n",
       "    </tr>\n",
       "  </tbody>\n",
       "</table>\n",
       "</div>"
      ],
      "text/plain": [
       "        PC1       PC2       PC3       PC4       PC5       PC6       PC7  \\\n",
       "0 -3.812953  0.001216 -0.323769  0.604977  0.019400 -0.203312  0.026274   \n",
       "1 -1.925220 -0.488924 -0.710458  0.612314 -1.480071 -0.147877 -0.058816   \n",
       "2 -1.108484 -2.030853 -0.736580 -0.028974  0.020174 -0.019185  0.508958   \n",
       "3  0.750251 -0.517997 -1.434833  0.770780 -0.087236  0.347226 -0.094349   \n",
       "4 -0.046420 -0.290762  0.405333 -0.648535 -0.917404 -0.876363 -0.422618   \n",
       "\n",
       "        PC8       PC9      PC10      PC11      PC12      PC13      PC14  \n",
       "0  0.487845  0.616140  0.037627 -0.024752  0.197650  0.104827  0.011297  \n",
       "1  0.354898 -0.201330 -0.165926 -0.183985  0.177803 -0.058405  0.033032  \n",
       "2  0.127384 -0.583453  0.214530  0.368134  0.097634 -0.031247 -0.081408  \n",
       "3  0.207712  0.161577 -0.158942  0.236577 -0.069516 -0.015409 -0.066967  \n",
       "4  0.199578 -0.103165  0.193305  0.069017  0.111965  0.043606  0.001984  "
      ]
     },
     "execution_count": 10,
     "metadata": {},
     "output_type": "execute_result"
    }
   ],
   "source": [
    "X[0:5]"
   ]
  },
  {
   "cell_type": "code",
   "execution_count": 11,
   "metadata": {},
   "outputs": [],
   "source": [
    "class Network(nn.Module):\n",
    "    def __init__(self, isTraining = True):\n",
    "        super().__init__()\n",
    "        \n",
    "        nfeatures = 14\n",
    "        self.isTraining = isTraining\n",
    "        # Inputs to hidden layer linear transformation\n",
    "        self.hidden = nn.Linear(nfeatures, 256)\n",
    "        self.hidden1 = nn.Linear(256, 256)\n",
    "        self.hidden2 = nn.Linear(256, 256)\n",
    "        self.output = nn.Linear(256, 1)\n",
    "        # Define sigmoid activation and softmax output \n",
    "        self.sigmoid = nn.Sigmoid()\n",
    "        \n",
    "    def forward(self, x):\n",
    "        x = self.hidden(x)\n",
    "        x = F.relu(x)\n",
    "        x = F.dropout(x, p = 0.7, training=self.isTraining)\n",
    "        x = self.hidden1(x)\n",
    "        x = F.relu(x)\n",
    "        x = F.dropout(x, p = 0.7, training=self.isTraining)\n",
    "        x = self.output(x)\n",
    "        x = self.sigmoid(x)\n",
    "        \n",
    "        return x"
   ]
  },
  {
   "cell_type": "code",
   "execution_count": 23,
   "metadata": {},
   "outputs": [
    {
     "data": {
      "image/png": "[encoded data removed]",
      "text/plain": [
       "<Figure size 864x576 with 2 Axes>"
      ]
     },
     "metadata": {
      "needs_background": "light"
     },
     "output_type": "display_data"
    },
    {
     "name": "stdout",
     "output_type": "stream",
     "text": [
      "Train Accuracy 0.7576\n"
     ]
    }
   ],
   "source": [
    "X_train, X_test, Y_train, Y_test = train_test_split(X, Y, test_size=0.25, random_state=73)\n",
    "X_train, X_test = X_train.values, X_test.values\n",
    "\n",
    "model = Network(isTraining=True)\n",
    "\n",
    "loss_func = nn.BCELoss()\n",
    "learning_rate = 0.001\n",
    "optimizer = torch.optim.Adam(model.parameters(), lr=learning_rate)\n",
    "\n",
    "train_loss = []\n",
    "test_loss = []\n",
    "train_accuracy = []\n",
    "test_accuracy = []\n",
    "iters = 30\n",
    "Y_train_t = torch.FloatTensor(Y_train).reshape(-1, 1)\n",
    "Y_test_t = torch.FloatTensor(Y_test).reshape(-1, 1)\n",
    "for i in range(iters):\n",
    "    X_train_t = torch.FloatTensor(X_train)\n",
    "    y_hat = model(X_train_t)\n",
    "    loss = loss_func(y_hat, Y_train_t)\n",
    "    loss.backward()\n",
    "    optimizer.step()\n",
    "    optimizer.zero_grad()\n",
    "    y_hat_class = np.where(y_hat.detach().numpy()<0.5, 0, 1)\n",
    "    accuracy = np.sum(Y_train.reshape(-1,1)==y_hat_class) / len(Y_train)\n",
    "    train_accuracy.append(accuracy)\n",
    "    train_loss.append(loss.item())\n",
    "    \n",
    "    X_test_t = torch.FloatTensor(X_test)\n",
    "    y_hat = model(X_test_t)\n",
    "    loss = loss_func(y_hat, Y_test_t)\n",
    "    y_hat_class = np.where(y_hat.detach().numpy()<0.5, 0, 1)\n",
    "    accuracy = np.sum(Y_test.reshape(-1,1)==y_hat_class) / len(Y_test)\n",
    "    test_accuracy.append(accuracy)\n",
    "    test_loss.append(loss.item())\n",
    "    \n",
    "fig, ax = plt.subplots(2, 1, figsize=(12,8))\n",
    "ax[0].plot(train_loss, label='Train loss')\n",
    "ax[0].plot(test_loss, label='Train loss')\n",
    "ax[0].set_ylabel('Loss')\n",
    "ax[0].set_title('Training Loss')\n",
    "ax[0].legend()\n",
    "\n",
    "ax[1].plot(train_accuracy, label='Train accuracy')\n",
    "ax[1].plot(test_accuracy, label='Test accuracy')\n",
    "ax[1].set_ylabel('Classification Accuracy')\n",
    "ax[1].set_title('Training Accuracy')\n",
    "ax[1].legend()\n",
    "\n",
    "plt.tight_layout()\n",
    "plt.show()\n",
    "print(\"Train Accuracy {:.4f}\".format(max(train_accuracy)))"
   ]
  },
  {
   "cell_type": "code",
   "execution_count": 24,
   "metadata": {},
   "outputs": [
    {
     "name": "stdout",
     "output_type": "stream",
     "text": [
      "Test Accuracy 0.74\n"
     ]
    }
   ],
   "source": [
    "model.isTraining = False\n",
    "X_test_t = torch.FloatTensor(X_test)\n",
    "y_hat_test = model(X_test_t)\n",
    "y_hat_test_class = np.where(y_hat_test.detach().numpy()<0.5, 0, 1)\n",
    "test_accuracy = np.sum(Y_test.reshape(-1,1)==y_hat_test_class) / len(Y_test)\n",
    "print(\"Test Accuracy {:.2f}\".format(test_accuracy))"
   ]
  },
  {
   "cell_type": "code",
   "execution_count": 26,
   "metadata": {},
   "outputs": [
    {
     "data": {
      "text/plain": [
       "array([[52, 26],\n",
       "       [11, 53]])"
      ]
     },
     "execution_count": 26,
     "metadata": {},
     "output_type": "execute_result"
    }
   ],
   "source": [
    "from sklearn.metrics import confusion_matrix\n",
    "confusion_matrix(Y_test, y_hat_test_class)"
   ]
  },
  {
   "cell_type": "code",
   "execution_count": null,
   "metadata": {},
   "outputs": [],
   "source": []
  },
  {
   "cell_type": "code",
   "execution_count": null,
   "metadata": {},
   "outputs": [],
   "source": []
  },
  {
   "cell_type": "code",
   "execution_count": null,
   "metadata": {},
   "outputs": [],
   "source": []
  },
  {
   "cell_type": "code",
   "execution_count": null,
   "metadata": {},
   "outputs": [],
   "source": []
  },
  {
   "cell_type": "code",
   "execution_count": null,
   "metadata": {},
   "outputs": [],
   "source": []
  },
  {
   "cell_type": "code",
   "execution_count": null,
   "metadata": {},
   "outputs": [],
   "source": []
  },
  {
   "cell_type": "code",
   "execution_count": null,
   "metadata": {},
   "outputs": [],
   "source": []
  },
  {
   "cell_type": "code",
   "execution_count": null,
   "metadata": {},
   "outputs": [],
   "source": []
  },
  {
   "cell_type": "code",
   "execution_count": null,
   "metadata": {},
   "outputs": [],
   "source": []
  },
  {
   "cell_type": "code",
   "execution_count": null,
   "metadata": {},
   "outputs": [],
   "source": []
  },
  {
   "cell_type": "code",
   "execution_count": null,
   "metadata": {},
   "outputs": [],
   "source": []
  },
  {
   "cell_type": "code",
   "execution_count": null,
   "metadata": {},
   "outputs": [],
   "source": []
  },
  {
   "cell_type": "code",
   "execution_count": null,
   "metadata": {},
   "outputs": [],
   "source": []
  },
  {
   "cell_type": "code",
   "execution_count": null,
   "metadata": {},
   "outputs": [],
   "source": []
  },
  {
   "cell_type": "code",
   "execution_count": null,
   "metadata": {},
   "outputs": [],
   "source": []
  },
  {
   "cell_type": "code",
   "execution_count": null,
   "metadata": {},
   "outputs": [],
   "source": []
  },
  {
   "cell_type": "code",
   "execution_count": null,
   "metadata": {},
   "outputs": [],
   "source": []
  },
  {
   "cell_type": "code",
   "execution_count": null,
   "metadata": {},
   "outputs": [],
   "source": []
  },
  {
   "cell_type": "code",
   "execution_count": null,
   "metadata": {},
   "outputs": [],
   "source": []
  },
  {
   "cell_type": "code",
   "execution_count": null,
   "metadata": {},
   "outputs": [],
   "source": []
  }
 ],
 "metadata": {
  "kernelspec": {
   "display_name": "Python 3",
   "language": "python",
   "name": "python3"
  }
 },
 "nbformat": 4,
 "nbformat_minor": 2
}
