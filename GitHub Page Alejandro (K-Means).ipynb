{
 "cells": [
  {
   "cell_type": "markdown",
   "metadata": {},
   "source": [
    "# K Means for Clustering (Alejandro)\n",
    "\n",
    "As we mentioned before, the NCAA tournament divides the 64 qualified teams into 16 different seed, according to their \"performance\" during the season. In reality, judges pick the seeds so one could argue that there's some degree of subjectivity to their choices and how teams should be seeding according to their statistics for that season. Our goal here is to quantify that subjectivity using unsupervised learning, specifically two different versions of the K Means Algorithm\n",
    "\n",
    "### Regular K-Means\n",
    "\n",
    "First, let's define as Regular K-Means, the algorithm available in the Python package scikit learn. We decided to start with the year 2018 by clustering the teams into 16 clusters (equivalent to 16 seeds) based on the all of the transformed statistics obtained with PCA. Therefore we accounted for 100% of the variance using all 14 principal components and computing the clustering with Euclidean distance between the data points. We obtained the following results (original data plotted as a contrast)\n",
    "\n",
    "\"<img src=\\\"/images/max_datahistogram.png\\\" style=\\\"float: left margin-right: 10px;\\\"/>"
   ]
  }
 ],
 "metadata": {
  "kernelspec": {
   "display_name": "Python 3",
   "language": "python",
   "name": "python3"
  },
  "language_info": {
   "codemirror_mode": {
    "name": "ipython",
    "version": 3
   },
   "file_extension": ".py",
   "mimetype": "text/x-python",
   "name": "python",
   "nbconvert_exporter": "python",
   "pygments_lexer": "ipython3",
   "version": "3.7.3"
  }
 },
 "nbformat": 4,
 "nbformat_minor": 2
}
