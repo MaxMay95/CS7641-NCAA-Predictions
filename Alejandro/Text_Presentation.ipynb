{
 "cells": [
  {
   "cell_type": "markdown",
   "metadata": {},
   "source": [
    "Given the unsatisfactory results from hierarchical clustering, we decided to use K-Means to analyze our team statistics.\n",
    "\n",
    "First, we used all of our transformed data from PCA for 2018 to separate teams into two clusters: qualified and unqualified teams. We found a good separation\n",
    "\n",
    "    Show image of qualified vs. unqualified\n",
    "    \n",
    "Encouraged by the results, we sought to further cluster the qualified teams for 2018 into 16 clusters and 4 clusters and compare them against the ground truth using purity measurements. We found poor clustering results and additional problem: the regular K-Means algorithm doesn't limit the number of teams per cluster\n",
    "\n",
    "    Show images of regular K-Means for 2018 vs. PCA\n",
    "    \n",
    "We created a \"modified\" algorithm that divides the number of points evenly across clusters and prioritizes cluster assignment to the closest points to the center, discarding those that are far away (which in turn get assigned to other unfilled clusters). It yielded marginal better results than the regular K-means algorithm\n",
    "\n",
    "    Show images of modified K-Means for 2018\n",
    "    \n",
    "Finally, we compared both algorithms head-to-head using data from 2010-2018 (normalized to each season's respective team statistics). Performance was poor and both algorithms seem to have similar purity measurements as we increase the number of data points\n",
    "\n",
    "    Show final images of K-Means with all data\n",
    "    \n",
    "The results from both hierarchical clustering and K-Means seem to highlight the poor performance of unsupervised learning to predict the seeding positions for any given year. More complicated algorithms or more exhaustive data could yield to better results, but we expect those to only show marginal imporvements over the algorithms described here given the subjectivity of seeding assignment carried out by a group of judges"
   ]
  }
 ],
 "metadata": {
  "kernelspec": {
   "display_name": "Python 3",
   "language": "python",
   "name": "python3"
  },
  "language_info": {
   "codemirror_mode": {
    "name": "ipython",
    "version": 3
   },
   "file_extension": ".py",
   "mimetype": "text/x-python",
   "name": "python",
   "nbconvert_exporter": "python",
   "pygments_lexer": "ipython3",
   "version": "3.7.3"
  }
 },
 "nbformat": 4,
 "nbformat_minor": 2
}
